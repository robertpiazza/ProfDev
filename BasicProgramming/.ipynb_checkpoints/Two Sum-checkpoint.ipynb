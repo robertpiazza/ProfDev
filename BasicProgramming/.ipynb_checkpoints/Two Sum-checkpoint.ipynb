{
 "cells": [
  {
   "cell_type": "markdown",
   "metadata": {},
   "source": [
    "# Description\n",
    "\n",
    "## TL:DR-\n",
    "Given:\n",
    "- list: nums=`[2, 7, 11, 15]`\n",
    "- target: 9\n",
    "\n",
    "Desired:\n",
    "return [0, 1] because nums[0] +nums[1] = 9\n",
    "\n",
    "## Longer version:\n",
    "- Given an array of integers, return **indices** of the two numbers such that they add up to a specific target.\n",
    "\n",
    "- You may assume that each input would have **exactly** one solution, and you may not use the *same* element twice."
   ]
  },
  {
   "cell_type": "code",
   "execution_count": 4,
   "metadata": {},
   "outputs": [
    {
     "name": "stdout",
     "output_type": "stream",
     "text": [
      "1.84 µs ± 89.2 ns per loop (mean ± std. dev. of 7 runs, 100000 loops each)\n"
     ]
    }
   ],
   "source": [
    "#Brute Force\n",
    "\n",
    "def twoSum(numbers, target):\n",
    "    \"\"\"Takes a list and target number, returns indices of the elements in the list that add to the target\"\"\"\n",
    "    for i in range(len(numbers)):\n",
    "        for j in range(1,len(numbers)):\n",
    "            if ((numbers[i])==(target - numbers[j])):\n",
    "                return [i, j]\n",
    "    return None\n",
    "%timeit twoSum([2, 7, 11, 15], 22)"
   ]
  },
  {
   "cell_type": "code",
   "execution_count": 10,
   "metadata": {},
   "outputs": [
    {
     "name": "stdout",
     "output_type": "stream",
     "text": [
      "989 ns ± 66.5 ns per loop (mean ± std. dev. of 7 runs, 1000000 loops each)\n",
      "1.19 µs ± 48.3 ns per loop (mean ± std. dev. of 7 runs, 1000000 loops each)\n",
      "1.64 µs ± 79.9 ns per loop (mean ± std. dev. of 7 runs, 1000000 loops each)\n"
     ]
    }
   ],
   "source": [
    "#One-pass Hash Table\n",
    "def twoSum(nums, target):\n",
    "    \"\"\"\n",
    "    :type nums: List[int]\n",
    "    :type target: int\n",
    "    :rtype: List[int]\n",
    "    \"\"\"\n",
    "    if len(nums) <= 100:\n",
    "        for i, n in enumerate(nums):\n",
    "            if target - n in nums[i+1:]:\n",
    "                return i, nums[i+1:].index(target - n)+(i+1)\n",
    "    else:\n",
    "        lookup = {}\n",
    "        for i, v in enumerate(nums):\n",
    "            if target - v in lookup:\n",
    "                return i, lookup[target - v]\n",
    "            lookup[v] = i\n",
    "    raise ValueError('Two sums target not in list.')\n",
    "\n",
    "%timeit twoSum([3,3], 6)\n",
    "%timeit twoSum([3,2,4], 6)\n",
    "%timeit twoSum([3,1,4,5], 9)"
   ]
  }
 ],
 "metadata": {
  "kernelspec": {
   "display_name": "Python 3",
   "language": "python",
   "name": "python3"
  },
  "language_info": {
   "codemirror_mode": {
    "name": "ipython",
    "version": 3
   },
   "file_extension": ".py",
   "mimetype": "text/x-python",
   "name": "python",
   "nbconvert_exporter": "python",
   "pygments_lexer": "ipython3",
   "version": "3.7.1"
  }
 },
 "nbformat": 4,
 "nbformat_minor": 2
}
