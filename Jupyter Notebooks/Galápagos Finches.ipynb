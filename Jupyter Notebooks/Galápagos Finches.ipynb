{
 "cells": [
  {
   "cell_type": "markdown",
   "metadata": {},
   "source": [
    "# Galápagos Island Finches\n",
    "\n",
    "Every year for the past 40-plus years, Peter and Rosemary Grant have gone to the Galápagos island of Daphne Major and collected data on Darwin's finches. Using statistical inference, we will analyze their data and witness evolution in action! \n",
    "\n",
    "## Darwin's finches: A full-blown statistical analysis\n",
    "\n",
    "\n",
    "<img src = \"Images/Finches-8-Drought.png\" width = 500>\n",
    "<img src = \"Images/Finches-1-Darwin.png\" width = 500>\n",
    "<img src = \"Images/Finches-2-Galapagos.png\" width = 500>\n",
    "<img src = \"Images/Finches-3-Daphnes.png\" width = 500>\n",
    "<img src = \"Images/Finches-4-Daphne Major.png\" width = 500>\n",
    "<img src = \"Images/Finches-5-Daphne Major.png\" width = 500>\n",
    "<img src = \"Images/Finches-6-BeakLength.png\" width = 500>\n",
    "<img src = \"Images/Finches-7-BeakDepth.png\" width = 500>\n",
    "\n",
    "\n",
    "```\n",
    "Your well-equipped toolbox\n",
    "- Graphical and quantitative EDA \n",
    "- Parameter estimation\n",
    "- Confidence interval calculation\n",
    "- Hypothesis testing\n",
    "```\n",
    "Image: Public domain, US\n",
    "```\n",
    "Image: NASA\n",
    "```\n",
    "The island of Daphne Major\n",
    "Image: Grant and Grant, 2014\n",
    "```\n",
    "The finches of Daphne Major\n",
    "Source: John Gould, public domain\n",
    "Geospiza fortis\n",
    "Geospiza scandens\n",
    "```\n",
    "Our data source\n",
    "- Peter and Rosemary Grant \n",
    " 40 Years of Evolution: Darwin's Finches on Daphne Major Island\n",
    "  Princeton University Press\n",
    ", 2014 \n",
    "- Data acquired from \n",
    "Dryad Digital Repository\n",
    " http://dx.doi.org/10.5061/dryad.g6g3h\n",
    "```\n",
    "The dimensions of the finch beakbeak lengthSource: John Gould, public domain\n",
    "```\n",
    "The dimensions of the finch beakbeak depthSource: John Gould, public domain\n",
    "```\n",
    "Investigation of \n",
    "G. scandens\n",
    " beak depthttEDA of beak depths in 1975 and 2012 \n",
    "- Parameter estimates of mean beak depth \n",
    "- Hypothesis test: did the beaks get deeper?\n",
    "```\n",
    "Let's do it!\n",
    "```\n",
    "Variation in beak \n",
    "shapes\n",
    "```\n",
    "The drought of winter 1976/1977\n",
    "Source: Grant and Grant, 2014\n",
    "```\n",
    "Beak geometrybeak lengthbeak depthSource: John Gould, public domain\n",
    "```\n",
    "Hintttdraw_bs_pairs_linreg() will come in handy\n",
    "```\n",
    "Let's do it!\n",
    "```\n",
    "Calculation of heredity\n",
    "```\n",
    "The finches of Daphne Major\n",
    "Source: John Gould, public domain\n",
    "Geospiza fortis\n",
    "Geospiza scandens\n",
    "```\n",
    "Heredity\n",
    "- The tendency for parental traits to \n",
    "be inherited by offspring\n",
    "```\n",
    "Let's do it!\n",
    "```\n",
    "Final thoughts\n",
    "```\n",
    "Your statistical thinking skills\n",
    "- Perform EDA \n",
    "- Generate e\n",
    "\"\n",
    "ective plots like ECDFs \n",
    "- Compute summary statistics \n",
    "- Estimate parameters \n",
    "- By optimization, including linear regression \n",
    "- Determine confidence intervals \n",
    "- Formulate and test hypotheses\n",
    "```\n",
    "Bon voyage!"
   ]
  },
  {
   "cell_type": "markdown",
   "metadata": {},
   "source": [
    "## Finch beaks and the need for statistics"
   ]
  },
  {
   "cell_type": "markdown",
   "metadata": {},
   "source": [
    "## EDA of beak depths of Darwin's finches"
   ]
  },
  {
   "cell_type": "markdown",
   "metadata": {},
   "source": [
    "t()"
   ]
  },
  {
   "cell_type": "markdown",
   "metadata": {},
   "source": [
    "## ECDFs of beak depths"
   ]
  },
  {
   "cell_type": "markdown",
   "metadata": {},
   "source": [
    "t()"
   ]
  },
  {
   "cell_type": "markdown",
   "metadata": {},
   "source": [
    "## Parameter estimates of beak depths"
   ]
  },
  {
   "cell_type": "markdown",
   "metadata": {},
   "source": [
    "t()"
   ]
  },
  {
   "cell_type": "markdown",
   "metadata": {},
   "source": [
    "## Hypothesis test: Are beaks deeper in 2012?"
   ]
  },
  {
   "cell_type": "markdown",
   "metadata": {},
   "source": [
    "t()"
   ]
  },
  {
   "cell_type": "markdown",
   "metadata": {},
   "source": [
    "## Variation of beak shapes"
   ]
  },
  {
   "cell_type": "markdown",
   "metadata": {},
   "source": [
    "## EDA of beak length and depth"
   ]
  },
  {
   "cell_type": "markdown",
   "metadata": {},
   "source": [
    "t()"
   ]
  },
  {
   "cell_type": "markdown",
   "metadata": {},
   "source": [
    "## Linear regressions"
   ]
  },
  {
   "cell_type": "markdown",
   "metadata": {},
   "source": [
    "t()"
   ]
  },
  {
   "cell_type": "markdown",
   "metadata": {},
   "source": [
    "## Displaying the linear regression results"
   ]
  },
  {
   "cell_type": "markdown",
   "metadata": {},
   "source": [
    "t()"
   ]
  },
  {
   "cell_type": "markdown",
   "metadata": {},
   "source": [
    "## Beak length to depth ratio"
   ]
  },
  {
   "cell_type": "markdown",
   "metadata": {},
   "source": [
    "t()"
   ]
  },
  {
   "cell_type": "markdown",
   "metadata": {},
   "source": [
    "## How different is the ratio?"
   ]
  },
  {
   "cell_type": "markdown",
   "metadata": {},
   "source": [
    "t()"
   ]
  },
  {
   "cell_type": "markdown",
   "metadata": {},
   "source": [
    "## Calculation of heritability"
   ]
  },
  {
   "cell_type": "markdown",
   "metadata": {},
   "source": [
    "## EDA of heritability"
   ]
  },
  {
   "cell_type": "markdown",
   "metadata": {},
   "source": [
    "t()"
   ]
  },
  {
   "cell_type": "markdown",
   "metadata": {},
   "source": [
    "## Correlation of offspring and parental data"
   ]
  },
  {
   "cell_type": "markdown",
   "metadata": {},
   "source": [
    "t()"
   ]
  },
  {
   "cell_type": "markdown",
   "metadata": {},
   "source": [
    "## Pearson correlation of offspring and parental data"
   ]
  },
  {
   "cell_type": "markdown",
   "metadata": {},
   "source": [
    "t()"
   ]
  },
  {
   "cell_type": "markdown",
   "metadata": {},
   "source": [
    "## Measuring heritability"
   ]
  },
  {
   "cell_type": "markdown",
   "metadata": {},
   "source": [
    "t()"
   ]
  },
  {
   "cell_type": "markdown",
   "metadata": {},
   "source": [
    "## Is beak depth heritable at all in G. scandens?"
   ]
  },
  {
   "cell_type": "markdown",
   "metadata": {},
   "source": [
    "t()"
   ]
  },
  {
   "cell_type": "markdown",
   "metadata": {},
   "source": [
    "## Final thoughts"
   ]
  },
  {
   "cell_type": "code",
   "execution_count": 1,
   "metadata": {},
   "outputs": [],
   "source": [
    "from IPython.core.interactiveshell import InteractiveShell\n",
    "InteractiveShell.ast_node_interactivity = \"all\" #default is 'last_expr'\n",
    "\n",
    "import pandas as pd\n",
    "import re\n",
    "import requests\n",
    "from bs4 import BeautifulSoup\n",
    "from tkinter import *\n",
    "import os\n",
    "import numpy as np\n",
    "from PIL.ImageGrab import grabclipboard\n",
    "\n",
    "def chapterImport():\n",
    "    \"\"\"Expand all text on course overview page, starting with the first '1' icon down to the last 50 xp number.\n",
    "    Copy and paste it into the Chapter_content.txt file in the data folder.\n",
    "    Run this function and it will print out all your headings. \n",
    "    Use the 'Ctrl+shift+-' keyboard shortcut to split each heading to a new cell.\"\"\"\n",
    "    import re\n",
    "    string = open('data/Chapter_content.txt', 'r').read()\n",
    "    lines = string.split('\\n')\n",
    "    chapters = []\n",
    "    descriptions = []\n",
    "    for index, line in enumerate(lines):\n",
    "        try:\n",
    "            print('# Chapter - ',re.search('^\\d+$', line).group(), lines[index+1])\n",
    "            chapters +=[index, index+1]\n",
    "        except:\n",
    "            pass\n",
    "        if index not in chapters:\n",
    "            if '%' in line:\n",
    "                print(lines[index+1])\n",
    "                descriptions +=[index, index+1]\n",
    "            if 'Icon' in line and 'xp' in lines[index+2]:\n",
    "                print('## '+lines[index+1])\n",
    "                if 'interactive' in line or ' mc' in line:\n",
    "                    print('t()')\n",
    "    return\n",
    "\n",
    "def t():\n",
    "    '''This prettifies most data on datacamps exercise pages into markdown from html. \n",
    "    It relies on two copies and pastes into the text file page_content.\n",
    "    Right click the exercise or instructions text in the window, click inspect, \n",
    "    select the header that encapsulates all the text for that section (usually div or ul)\n",
    "    copy that element with ctrl+c and paste into the text file\n",
    "    run this function and it will print out the properly formatted data\n",
    "    \n",
    "    Adjusted to not need the text file, it will read system clipboard then \n",
    "    paste formatted text back into clipboard for pasting into markdown cell.\n",
    "    '''\n",
    "    #with open('data/page.txt') as file:\n",
    "    #    page = file.read()\n",
    "    r = Tk()\n",
    "    page = r.clipboard_get()\n",
    "    #soup = BeautifulSoup(html_doc)\n",
    "    soup = BeautifulSoup(page)\n",
    "    string = ''\n",
    "    exercise_tags = soup.find_all(\"div\", {\"class\": \"exercise--assignment\"})\n",
    "    instructions_tags = soup.find_all(\"div\", {\"class\": \"exercise--instructions\"})\n",
    "    try:\n",
    "        string += str(exercise_tags[0].find_all(\"div\")[0])\n",
    "    except:\n",
    "        quiz_tags = soup.find_all(\"div\", {\"class\": \"exercise-area\"})\n",
    "        string += str(quiz_tags[0].find_all(\"div\")[0])\n",
    "    try:\n",
    "        for i in range(len(instructions_tags)):\n",
    "            if len(instructions_tags)>1:\n",
    "                string += str(i+1)+'. '+str(instructions_tags[i])\n",
    "            else:\n",
    "                string += str(instructions_tags[i])\n",
    "    except:\n",
    "        pass\n",
    "    #string = open('data/page_content.txt', 'r').read()\n",
    "    hyperlinks = re.findall(\"<a.*?>.*?</a>\", string)\n",
    "    formatted = []\n",
    "    for link in hyperlinks:\n",
    "        text = re.sub('<a.*?>', '', re.sub('</a>', '', link))\n",
    "        link = re.sub('<a.*?\"', '', re.sub('\" target.*', '', link))\n",
    "        formatted += ['['+text+']'+'('+link+')']\n",
    "        string = string.replace(re.search(\"<a.*?>.*?</a>\", string).group(), '['+text+']'+'('+link+')',1)\n",
    "    string = re.sub('<li.*?>', '- ', string)\n",
    "    string = re.sub(r'\\d+ XP', '', string)\n",
    "    string = re.sub('</p.*?></div.*?>', '</li></li>---</li>', string)\n",
    "    string = re.sub('<hr/>', '</li></li>---</li>', string)\n",
    "    string = string.replace('</p>\\n<p>', '</p></li></li><p>')\n",
    "    delete = ['<p>', '</p>','</?ul.*?>', '</?label.*?>', '</?input.*?>', '</?span.*?>', '</?div.*?>', '</?math.*?>','<msup.*?/msup>', '<nobr.*?/nobr>', '\" role=\"presentation\" style=\"position: relative;\">', 'press\\d', '<button.*?/button>', '<svg.*?/svg>']\n",
    "    for el in delete:\n",
    "        string = re.sub(el, '', string) \n",
    "    newLine = ['</h1>', '</h2>', '</h3>', '</h4>', '</h5>']\n",
    "    for el in newLine:\n",
    "        string = re.sub(el, '</li>', string)\n",
    "    for i in range(1,7):\n",
    "        string = re.sub('<h'+str(i)+'.*?>', '#'*i+' ', string)\n",
    "    #string = re.sub(r'<section.*?>', '', string) \n",
    "    string = string.replace('##### Answer the question', '')\n",
    "    string = string.replace('<pre><code>', '```</li>').replace('</code></pre>', '```</li>')\n",
    "    string = string.replace('<blockquote>','```</li>').replace('</blockquote>', '```</li>')\n",
    "    string = re.sub('<script type=\"math/tex\" id=\"MathJax.*?>', '$', string)\n",
    "    string = re.sub('<mi>.*?</mi><script .*?(MathJax|tex).*?>', '$', string)\n",
    "    string = re.sub('</script>', '$', string)\n",
    "    string = re.sub(r\"This has been done for you, so hit 'Submit Answer' to s(.*)\", r'S\\1', string)\n",
    "    string = re.sub(r\"This has been done for you, so hit 'Submit Answer' to v(.*)\", r'V\\1', string)\n",
    "    string = string.replace('<code>', '`').replace('</code>', '`')\n",
    "    string = string.replace('<em>', '*').replace('</em>', '*')\n",
    "    string = string.replace('<b>', '**').replace('</b>', '**')\n",
    "    string = string.replace('<strong>', '**').replace('</strong>', '**')\n",
    "    string = string.replace('&lt;', '<').replace('&gt;', '>')\n",
    "    string = string.replace('\\\\n', '</li>\\\\n\\\\n</li>')\n",
    "    #string = re.sub(r'\\[Take Hint \\(-\\d+? XP\\)\\]\\(exercise--show-hint\" data-cy=\"exercise-show-hint\" href=\"javascript:void\\(0\\)\">Take Hint \\(-\\d+? XP\\)</a>\\)', '',string)\n",
    "    string = string.replace('[Take Hint (-30 XP)](exercise--show-hint\" data-cy=\"exercise-show-hint\" href=\"javascript:void(0)\">Take Hint (-30 XP)</a>)', '')\n",
    "    string = string.replace('[Take Hint (-15 XP)](exercise--show-hint\" data-cy=\"exercise-show-hint\" href=\"javascript:void(0)\">Take Hint (-15 XP)</a>)', '')\n",
    "    string = string.replace('[Take Hint (-10 XP)](exercise--show-hint\" data-cy=\"exercise-show-hint\" href=\"javascript:void(0)\">Take Hint (-10 XP)</a>)', '')\n",
    "    string = string.replace('[Take Hint (-9 XP)](exercise--show-hint\" data-cy=\"exercise-show-hint\" href=\"javascript:void(0)\">Take Hint (-9 XP)</a>)', '')\n",
    "    string = string.replace('[Take Hint (-8 XP)](exercise--show-hint\" data-cy=\"exercise-show-hint\" href=\"javascript:void(0)\">Take Hint (-8 XP)</a>)', '')\n",
    "    string = string.replace('[Take Hint (-7 XP)](exercise--show-hint\" data-cy=\"exercise-show-hint\" href=\"javascript:void(0)\">Take Hint (-7 XP)</a>)', '')\n",
    "    string = string.replace('[Take Hint (-6 XP)](exercise--show-hint\" data-cy=\"exercise-show-hint\" href=\"javascript:void(0)\">Take Hint (-6 XP)</a>)', '')\n",
    "    string = string.replace('[Take Hint (-5 XP)](exercise--show-hint\" data-cy=\"exercise-show-hint\" href=\"javascript:void(0)\">Take Hint (-5 XP)</a>)', '')\n",
    "    string = string.replace('[Take Hint (-)](exercise--show-hint\" data-cy=\"exercise-show-hint\" href=\"javascript:void(0)\">Take Hint (-)</a>)', '')\n",
    "    string = string.replace('Hit `Submit Answer` to ', '')\n",
    "    string = string.replace('\\\" rel=\\\"noopener noreferrer', '')\n",
    "    string = string.replace('This has been done for you.', '')\n",
    "    string = string.split('</li>')\n",
    "    string_for_copy = ''\n",
    "    for i in string:\n",
    "        print(i)\n",
    "        string_for_copy += i+'\\n'\n",
    "    copy_df=pd.DataFrame([string_for_copy])\n",
    "    copy_df.to_clipboard(index=False,header=False)\n",
    "    return\n",
    "\n",
    "def s(fileName):\n",
    "    '''Slide Parser'''\n",
    "    import PyPDF2\n",
    "    import re\n",
    "    title_elements_raw = ['INTERACTIVE DATA VISUALIZATION WITH BOKEH', 'Introduction to Data V', 'isualization with Python ']    \n",
    "    title_elements = list(map(lambda x: x.lower(), title_elements_raw))\n",
    "    with open(fileName, 'rb') as pdfFileObj:\n",
    "        pdfReader = PyPDF2.PdfFileReader(pdfFileObj)\n",
    "        title = pdfReader.getPage(0).extractText().split('\\n')[0].lower()\n",
    "        for i in range(pdfReader.numPages):\n",
    "            pageItems = pdfReader.getPage(i).extractText().split('\\n')\n",
    "            for itemIndex, item in enumerate(pageItems):\n",
    "                if item in title_elements:\n",
    "                    pageItems[itemIndex] = re.sub(item, '', pageItems[itemIndex])\n",
    "            arrayFilter = np.array([x != '' for x in pageItems])\n",
    "            pageItems = np.array(pageItems)[arrayFilter].tolist()\n",
    "            for index, item in enumerate(pageItems):\n",
    "                if item.lower() != title:\n",
    "                    if index == 0:\n",
    "                        item = \"```\\n### \"+ item\n",
    "                    if index == 1:\n",
    "                        item = \"```\\n\" + item\n",
    "                    if index == len(pageItems):\n",
    "                        item = item + \"```\"\n",
    "                    item = re.sub('^```\\n!', '```\\n- ', item)\n",
    "                    item = re.sub('^!', '- ', item)\n",
    "                    item = re.sub('^ +!', '- ', item)\n",
    "                    item = re.sub(r\"(\\w+)!(\\w+)\", r\"\\1tt\\2\", item)\n",
    "                    item = re.sub(r\"Õ\", '\\'', item)\n",
    "                    item = re.sub(r\"Þ\", 'fi', item)\n",
    "                    item = re.sub(r\"Ô\", \"'\", item)\n",
    "                    item = re.sub(r\"Ò\", \"“\", item)\n",
    "                    item = re.sub(r\"Ó\", \"”\", item)\n",
    "                    item = re.sub(r\"É\", \"…\", item)\n",
    "                    item = re.sub(r\"ß\", \"fl\", item)\n",
    "                    item = re.sub(r'^(```\\n###.*?)In \\[(.*)', r'\\1\\n```\\nIn [\\2', item)\n",
    "                    item = re.sub(r'(.+?)In \\[(.*?)', r'\\1\\nIn [\\2', item)\n",
    "                    item = re.sub(r'(.*?)Out\\[(\\d*?)\\]:(.*?)', r'\\1\\nOut[\\2]:\\n\\3', item)\n",
    "                    item = re.sub(r'(.*)dtype: (.*)', r'\\1\\ndtype:\\2', item)\n",
    "                    item = re.sub(r'(.*?)\\.\\.\\.:(.*?)', r'\\1\\n...:\\2', item)\n",
    "                    valid = True \n",
    "                    #help creating tables\n",
    "                    for i in range(10):\n",
    "                        if valid == True:\n",
    "                            my_regex = r'(.*?) '+re.escape(str(i))+r' (.*?)'\n",
    "                            if re.search(my_regex, item):\n",
    "                                item = re.sub(my_regex, r'\\1 \\n'+str(i)+r' \\2', item, count = 1)\n",
    "                            else:\n",
    "                                valid = False            \n",
    "\n",
    "                    print(item)\n",
    "    return\n",
    "\n",
    "def headingText(fileName, pageNumber):\n",
    "    '''Slide Parser'''\n",
    "    import PyPDF2\n",
    "    import re\n",
    "    with open(fileName, 'rb') as pdfFileObj:\n",
    "        pdfReader = PyPDF2.PdfFileReader(pdfFileObj)\n",
    "        title_elements = ['STATISTICAL THINKING IN PYTHON I', 'Statistical Thinking in Python I', 'statistical thinking in python i']    \n",
    "        pageItems = pdfReader.getPage(pageNumber-1).extractText().split('\\n')\n",
    "        for itemIndex, item in enumerate(pageItems):\n",
    "            if item.lower() in title_elements:\n",
    "                pageItems[itemIndex] = re.sub(item, '', pageItems[itemIndex])\n",
    "        arrayFilter = np.array([x != '' for x in pageItems])\n",
    "        pageItems = np.array(pageItems)[arrayFilter].tolist()\n",
    "    print(pageItems[0])\n",
    "    return pageItems[0]\n",
    "\n",
    "def importText(moduleAbbreviation, text):\n",
    "    if type(text) == str:\n",
    "        wordList = re.sub(r'\\W', ' ', text).split()\n",
    "        name = moduleAbbreviation+\"_\".join([x[0].upper()+x[1:] for x in wordList])\n",
    "        pathName = 'Images/'+name\n",
    "        if os.path.isfile(pathName+'.png'):\n",
    "            nextNumber = 2\n",
    "            for i in range(2,9):\n",
    "                if os.path.isfile(pathName+str(i)+'.png'):\n",
    "                    nextNumber = i+1\n",
    "            fileName = pathName+str(nextNumber)+'.png'\n",
    "        else:\n",
    "            fileName = pathName+'.png'\n",
    "    else:\n",
    "        fileName = 'No text found'\n",
    "    return fileName\n",
    "\n",
    "def importSaveImage(prefix, text):\n",
    "    #use Win+Shift+S to take a screenshot before using this function\n",
    "    fileName = importText(prefix, text)\n",
    "    image = grabclipboard()\n",
    "    image.save(fileName)\n",
    "    return fileName\n",
    "\n",
    "def sklearn_to_df(sklearn_dataset):\n",
    "    data_df = pd.DataFrame(sklearn_dataset.data, columns=sklearn_dataset.feature_names)\n",
    "    data_df['target'] = pd.Series(sklearn_dataset.target)\n",
    "    if 'target_names' in sklearn_dataset.keys():\n",
    "        df = pd.merge(data_df, pd.DataFrame(data.target_names, columns = ['target_name']), left_on = 'target', right_index = True)\n",
    "    else:\n",
    "        df = data_df\n",
    "    return df\n",
    "\n",
    "\n",
    "#suggested:\n",
    "#importSaveImage('IDVwP', headingText(\"Slides/IntroDataVisualizationch2_slides.pdf\", 9))"
   ]
  }
 ],
 "metadata": {
  "kernelspec": {
   "display_name": "Python 3",
   "language": "python",
   "name": "python3"
  },
  "language_info": {
   "codemirror_mode": {
    "name": "ipython",
    "version": 3
   },
   "file_extension": ".py",
   "mimetype": "text/x-python",
   "name": "python",
   "nbconvert_exporter": "python",
   "pygments_lexer": "ipython3",
   "version": "3.7.1"
  }
 },
 "nbformat": 4,
 "nbformat_minor": 2
}
